{
 "cells": [
  {
   "cell_type": "markdown",
   "metadata": {},
   "source": [
    "# Learning OpenCV"
   ]
  },
  {
   "cell_type": "markdown",
   "metadata": {},
   "source": [
    "## Basic Grayscale"
   ]
  },
  {
   "cell_type": "markdown",
   "metadata": {},
   "source": [
    "### Importing libraries"
   ]
  },
  {
   "cell_type": "code",
   "execution_count": 20,
   "metadata": {},
   "outputs": [
    {
     "name": "stdout",
     "output_type": "stream",
     "text": [
      "Populating the interactive namespace from numpy and matplotlib\n"
     ]
    }
   ],
   "source": [
    "%pylab inline \n",
    "import cv2\n",
    "import numpy as np\n",
    "from IPython.display import clear_output"
   ]
  },
  {
   "cell_type": "markdown",
   "metadata": {},
   "source": [
    "### Initialize the camera resource"
   ]
  },
  {
   "cell_type": "code",
   "execution_count": 21,
   "metadata": {},
   "outputs": [],
   "source": [
    "cam = cv2.VideoCapture(0)"
   ]
  },
  {
   "cell_type": "markdown",
   "metadata": {},
   "source": [
    "### Adjust Resolution"
   ]
  },
  {
   "cell_type": "code",
   "execution_count": 22,
   "metadata": {},
   "outputs": [],
   "source": [
    "def change_res(width, height):\n",
    "    cam.set(3, width)\n",
    "    cam.set(4, height)\n",
    "    \n",
    "def make_1080p():\n",
    "    cam.set(3, 1920)\n",
    "    cam.set(4, 1080)\n",
    "\n",
    "def make_720p():\n",
    "    cam.set(3, 1280)\n",
    "    cam.set(4, 720)\n",
    "\n",
    "def make_480p():\n",
    "    cam.set(3, 640)\n",
    "    cam.set(4, 480)"
   ]
  },
  {
   "cell_type": "code",
   "execution_count": 23,
   "metadata": {},
   "outputs": [],
   "source": [
    "# Testing\n",
    "make_480p()"
   ]
  },
  {
   "cell_type": "markdown",
   "metadata": {},
   "source": [
    "### Scaling Factor"
   ]
  },
  {
   "cell_type": "code",
   "execution_count": 24,
   "metadata": {},
   "outputs": [],
   "source": [
    "def rescale_frame(frame, percent=75):\n",
    "    width = int(frame.shape[1] * percent/ 100)\n",
    "    height = int(frame.shape[0] * percent/ 100)\n",
    "    dim = (width, height)\n",
    "    return cv2.resize(frame, dim, interpolation =cv2.INTER_AREA)"
   ]
  },
  {
   "cell_type": "markdown",
   "metadata": {},
   "source": [
    "### Real-Time Camera"
   ]
  },
  {
   "cell_type": "code",
   "execution_count": 25,
   "metadata": {},
   "outputs": [
    {
     "name": "stdout",
     "output_type": "stream",
     "text": [
      "Stream stopped\n"
     ]
    }
   ],
   "source": [
    "try:\n",
    "    while True:\n",
    "        \n",
    "        ret, frame = cam.read()\n",
    "        if not ret:\n",
    "            # Release the Video Device if ret is false\n",
    "            cam.release()\n",
    "            # Message to be displayed after releasing the device\n",
    "            print(\"Released Camera Resource\")\n",
    "            break\n",
    "            \n",
    "        \n",
    "        # Rescaling\n",
    "        frame = rescale_frame(frame, percent=30)\n",
    "            \n",
    "        axis('off')\n",
    "        title(\"WhoAmI\")\n",
    "         \n",
    "#         # Original Frame\n",
    "#         original_cv2_frame = frame\n",
    "#         original_cv2_frame = cv2.cvtColor(original_cv2_frame, cv2.COLOR_BGR2RGB)\n",
    "#         imshow(original_cv2_frame)\n",
    "#         show()\n",
    "        \n",
    "#         # Gray Frame\n",
    "#         gray_frame = cv2.cvtColor(frame, cv2.COLOR_BGR2RGB)\n",
    "#         gray_frame = cv2.cvtColor(gray_frame, cv2.COLOR_BGR2GRAY)\n",
    "#         imshow(gray_frame)\n",
    "#         show()\n",
    "        \n",
    "        # Natural Frame\n",
    "        #flip image for natural viewing\n",
    "        natural_frame = cv2.flip(frame, 1)\n",
    "        natural_frame = cv2.cvtColor(natural_frame, cv2.COLOR_BGR2RGB)\n",
    "\n",
    "        imshow(natural_frame)\n",
    "        show()\n",
    "        \n",
    "        # Display the frame until new frame is available\n",
    "        clear_output(wait=True)\n",
    "        \n",
    "        # Quit the camera if run using terminal\n",
    "        if cv2.waitKey(20) & 0xFF == ord('q'):\n",
    "            break\n",
    "        \n",
    "except KeyboardInterrupt:\n",
    "    cam.release()\n",
    "    cv2.destroyAllWindows()\n",
    "    print(\"Stream stopped\")\n",
    "\n"
   ]
  },
  {
   "cell_type": "code",
   "execution_count": null,
   "metadata": {},
   "outputs": [],
   "source": []
  }
 ],
 "metadata": {
  "kernelspec": {
   "display_name": "Python 3",
   "language": "python",
   "name": "python3"
  },
  "language_info": {
   "codemirror_mode": {
    "name": "ipython",
    "version": 3
   },
   "file_extension": ".py",
   "mimetype": "text/x-python",
   "name": "python",
   "nbconvert_exporter": "python",
   "pygments_lexer": "ipython3",
   "version": "3.6.5"
  }
 },
 "nbformat": 4,
 "nbformat_minor": 2
}
